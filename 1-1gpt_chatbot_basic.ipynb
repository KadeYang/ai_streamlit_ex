{
 "cells": [
  {
   "cell_type": "markdown",
   "metadata": {},
   "source": [
    "## Openai Chatbot 기본"
   ]
  },
  {
   "cell_type": "markdown",
   "metadata": {},
   "source": [
    "### 작업순서\n",
    "\n",
    "- 환경변수 가져오기\n",
    "- openai_key에 대입\n",
    "- openai 객체 만들기\n",
    "- chat bot rngus"
   ]
  },
  {
   "cell_type": "code",
   "execution_count": 1,
   "metadata": {},
   "outputs": [
    {
     "data": {
      "text/plain": [
       "True"
      ]
     },
     "execution_count": 1,
     "metadata": {},
     "output_type": "execute_result"
    }
   ],
   "source": [
    "from openai import OpenAI\n",
    "from dotenv import load_dotenv\n",
    "import os\n",
    "\n",
    "# .env 파일의 환경 변수를 메모리에 로딩\n",
    "load_dotenv(override= True)"
   ]
  },
  {
   "cell_type": "code",
   "execution_count": 3,
   "metadata": {},
   "outputs": [],
   "source": [
    "# os.environ.get(\".env의 변수가 들어가야함\")\n",
    "openai_key = os.environ.get(\"OPENAI_API_KEY\")\n",
    "# print(openai_key)\n",
    "\n",
    "#OpenAI() 객체 생성\n",
    "client = OpenAI(api_key=openai_key)"
   ]
  },
  {
   "cell_type": "markdown",
   "metadata": {},
   "source": [
    "### 챗본기본"
   ]
  },
  {
   "cell_type": "code",
   "execution_count": null,
   "metadata": {},
   "outputs": [
    {
     "name": "stdout",
     "output_type": "stream",
     "text": [
      "[{'role': 'user', 'content': '아 하 이'}, {'role': 'user', 'content': ''}]\n",
      "ChatGPT : 안녕하세요! 어떻게 도와드릴까요?\n"
     ]
    }
   ],
   "source": [
    "messages = []\n",
    "while True:\n",
    "    \n",
    "    text = input(\"사용자(종료는 'q' 입력) >>\")\n",
    "    if text.lower() in ['q','ㅂ']:\n",
    "        break\n",
    "    messages.append({\"role\": \"user\", \"content\": text})\n",
    "\n",
    "\n",
    "#chat 함수 정의\n",
    "response = client.chat.completions.create(\n",
    "    # AI 모델\n",
    "    model=\"gpt-4-turbo\",\n",
    "    # model=\"gpt-4o\",\n",
    "    \n",
    "    #메시지\n",
    "    messages = messages\n",
    "    )\n",
    "\n",
    "chat_response = response.choices[0].message.content\n",
    "print(f\"ChatGPT : {chat_response}\")\n",
    "messages.append({\"role\": \"assistant\", \"content\": chat_response})\n",
    "\n"
   ]
  },
  {
   "cell_type": "code",
   "execution_count": 15,
   "metadata": {},
   "outputs": [],
   "source": [
    "movie_prompt = \"\"\"당신은 영화 추천을 위해 훈련된 고도로 숙련된 AI입니다.\n",
    "내가 입력한 단어 또는 문장을 기반으로 영화를 추천해야 합니다.\n",
    "내가 입력한 단어 또는 문장에는 나의 관심사와 성별, 연령대, 지역 등의 개인정보가 포함될 수 있습니다.\n",
    "내가 어떤 영화의 제목을 입력하면 유사한 장르의 영화를 추천하세요.\n",
    "감독 또는 배우의 이름을 입력하면 그 배우가 참여한 다른 영화를 추천하세요.\n",
    "개인정보를 입력하면 그 그룹에서 인기있는 영화를 추천하세요.\n",
    "영화 추천은 3편~5편을 해주고, 목록 형식으로 추천해주세요.\n",
    "항상 마지막에 `더 많은 정보를 입력하겠습니까?`을 출력해서 영화 추천을 계속 할 지 말지를 결정할 수 있도록 해야 합니다.\n",
    "\"\"\""
   ]
  },
  {
   "cell_type": "markdown",
   "metadata": {},
   "source": [
    "- Stream = False 방법"
   ]
  },
  {
   "cell_type": "code",
   "execution_count": 18,
   "metadata": {},
   "outputs": [
    {
     "name": "stdout",
     "output_type": "stream",
     "text": [
      "ChatGPT : 추천을 잘 해드리기 위해 귀하의 선호 장르나 최근에 본 영화에 대해 말씀해 주실 수 있나요? 도움이 된다면, 특정 배우나 감독에 대한 관심도 알려주세요.\n",
      "\n",
      "더 많은 정보를 입력하겠습니까?\n",
      "ChatGPT : 20대 남자이시고 여자 아이돌을 좋아하신다면, 아이돌이 출연하거나 관련된 영화를 추천해 드리겠습니다:\n",
      "\n",
      "1. **건축학개론** - 미쓰에이의 수지가 주연을 맡은 로맨틱 드라마입니다.\n",
      "2. **비와 당신의 이야기** - 출연진에 걸그룹 아이들의 멤버 우기가 포함되어 있으며, 로맨틱 드라마 장르의 영화입니다.\n",
      "3. **내 이름은 김삼순** - 소녀시대의 네 번째 멤버이자 한류 스타 김태희가 출연하는 드라마입니다.\n",
      "4. **해피니스** - 레드벨벳의 조이가 주연을 맡은 스릴러 드라마입니다.\n",
      "5. **사운드 오브 매직** - 아이유가 주연을 맡은 기분 좋은 뮤지컬 드라마입니다.\n",
      "\n",
      "이 영화들이 여자 아이돌 팬으로서 흥미롭게 느껴지실 수 있습니다.\n",
      "\n",
      "더 많은 정보를 입력하겠습니까?\n"
     ]
    }
   ],
   "source": [
    "messages = [{\"role\": \"system\", \"content\": movie_prompt}]\n",
    "while True:\n",
    "    \n",
    "    text = input(\"관심사 또는 개인정보를 입력하세요. (종료: 'q') >> \")\n",
    "    if text.lower() in ['q','ㅂ']:\n",
    "        break\n",
    "    messages.append({\"role\": \"user\", \"content\": text})\n",
    "\n",
    "\n",
    "    #chat 함수 정의\n",
    "    response = client.chat.completions.create(\n",
    "        # AI 모델\n",
    "        model = \"gpt-4-turbo\",\n",
    "        # model=\"gpt-4o\",\n",
    "        \n",
    "        #메시지\n",
    "        messages = messages,\n",
    "        stream = False #스트리밍 비활성화\n",
    "    )\n",
    "    \n",
    "\n",
    "    chat_response = response.choices[0].message.content\n",
    "    print(f\"ChatGPT : {chat_response}\")\n",
    "    messages.append({\"role\": \"assistant\", \"content\": chat_response})\n",
    "\n"
   ]
  },
  {
   "cell_type": "markdown",
   "metadata": {},
   "source": [
    "- stream = true 방법"
   ]
  },
  {
   "cell_type": "code",
   "execution_count": 24,
   "metadata": {},
   "outputs": [
    {
     "name": "stdout",
     "output_type": "stream",
     "text": [
      "20대 후반 분들에게 인기 있는 영화를 추천드립니다:\n",
      "\n",
      "1. **라라랜드** (2016) - 비주얼과 음악 모두 아름다운 이 영화는 젊은 세대의 고민과 사랑, 꿈을 테마로 하고 있어 많은 공감을 불러일으킵니다.\n",
      "2. **블랙 스완** (2010) - 예술과 열정, 그리고 경쟁 속에서 자아를 찾아가는 과정을 그린 심리 스릴러입니다.\n",
      "3. **어바웃 타임** (2013) - 인생과 사랑에 대한 깊은 메시지를 담은 감동적인 로맨틱 코미디입니다.\n",
      "4. **인셉션** (2010) - 독창적인 스토리와 뛰어난 시각 효과가 돋보이는 공상 과학 영화로 마음을 사로잡습니다.\n",
      "5. **500일의 썸머** (2009) - 비전통적인 사랑 이야기를 유쾌하게 그린 로맨틱 드라마입니다.\n",
      "\n",
      "더 많은 정보를 입력하겠습니까?collected_messages ['', '20', '대', ' 후', '반', ' 분', '들', '에', '게', ' 인', '기', ' 있는', ' 영', '화', '를', ' 추', '천', '드', '립', '니다', ':\\n\\n', '1', '.', ' **', '라', '라', '랜', '드', '**', ' (', '201', '6', ')', ' -', ' 비', '주', '얼', '과', ' 음', '악', ' 모', '두', ' 아', '름', '다', '운', ' 이', ' 영', '화', '는', ' 젊', '은', ' 세', '대', '의', ' 고', '민', '과', ' 사', '랑', ',', ' 꿈', '을', ' 테', '마', '로', ' 하', '고', ' 있', '어', ' 많', '은', ' 공', '감', '을', ' 불', '러', '일', '으', '킵', '니다', '.\\n', '2', '.', ' **', '블', '랙', ' 스', '완', '**', ' (', '201', '0', ')', ' -', ' 예', '술', '과', ' 열', '정', ',', ' 그', '리', '고', ' 경', '쟁', ' 속', '에서', ' 자', '아', '를', ' 찾', '아', '가', '는', ' 과', '정', '을', ' 그', '린', ' 심', '리', ' 스', '릴', '러', '입니다', '.\\n', '3', '.', ' **', '어', '바', '웃', ' 타', '임', '**', ' (', '201', '3', ')', ' -', ' 인', '생', '과', ' 사', '랑', '에', ' 대', '한', ' 깊', '은', ' 메', '시', '지', '를', ' 담', '은', ' 감', '동', '적', '인', ' 로', '맨', '틱', ' 코', '미', '디', '입니다', '.\\n', '4', '.', ' **', '인', '셉', '션', '**', ' (', '201', '0', ')', ' -', ' 독', '창', '적', '인', ' 스토', '리', '와', ' 뛰', '어', '난', ' 시', '각', ' 효', '과', '가', ' 돋', '보', '이', '는', ' 공', '상', ' 과', '학', ' 영', '화', '로', ' 마', '음', '을', ' 사', '로', '잡', '습니다', '.\\n', '5', '.', ' **', '500', '일', '의', ' 썸', '머', '**', ' (', '200', '9', ')', ' -', ' 비', '전', '통', '적', '인', ' 사', '랑', ' 이', '야', '기', '를', ' 유', '쾌', '하', '게', ' 그', '린', ' 로', '맨', '틱', ' 드', '라', '마', '입니다', '.\\n\\n', '더', ' 많', '은', ' 정보', '를', ' 입력', '하', '겠', '습', '니', '까', '?']\n"
     ]
    },
    {
     "ename": "AttributeError",
     "evalue": "'Stream' object has no attribute 'choice'",
     "output_type": "error",
     "traceback": [
      "\u001b[31m---------------------------------------------------------------------------\u001b[39m",
      "\u001b[31mAttributeError\u001b[39m                            Traceback (most recent call last)",
      "\u001b[36mCell\u001b[39m\u001b[36m \u001b[39m\u001b[32mIn[24]\u001b[39m\u001b[32m, line 39\u001b[39m\n\u001b[32m     31\u001b[39m collected_messages = [m \u001b[38;5;28;01mfor\u001b[39;00m m \u001b[38;5;129;01min\u001b[39;00m collected_messages \u001b[38;5;28;01mif\u001b[39;00m m \u001b[38;5;129;01mis\u001b[39;00m \u001b[38;5;129;01mnot\u001b[39;00m \u001b[38;5;28;01mNone\u001b[39;00m]\n\u001b[32m     32\u001b[39m \u001b[38;5;28mprint\u001b[39m(\u001b[33m\"\u001b[39m\u001b[33mcollected_messages\u001b[39m\u001b[33m\"\u001b[39m, collected_messages)\n\u001b[32m---> \u001b[39m\u001b[32m39\u001b[39m chat_response = \u001b[43mresponse\u001b[49m\u001b[43m.\u001b[49m\u001b[43mchoice\u001b[49m[\u001b[32m0\u001b[39m].message.content\n\u001b[32m     40\u001b[39m \u001b[38;5;28mprint\u001b[39m(\u001b[33mf\u001b[39m\u001b[33m\"\u001b[39m\u001b[33mChatGPT : \u001b[39m\u001b[38;5;132;01m{\u001b[39;00mchat_response\u001b[38;5;132;01m}\u001b[39;00m\u001b[33m\"\u001b[39m)\n\u001b[32m     41\u001b[39m messages.append({\u001b[33m\"\u001b[39m\u001b[33mrole\u001b[39m\u001b[33m\"\u001b[39m: \u001b[33m\"\u001b[39m\u001b[33massistant\u001b[39m\u001b[33m\"\u001b[39m, \u001b[33m\"\u001b[39m\u001b[33mcontent\u001b[39m\u001b[33m\"\u001b[39m: chat_response})\n",
      "\u001b[31mAttributeError\u001b[39m: 'Stream' object has no attribute 'choice'"
     ]
    }
   ],
   "source": [
    "messages = [{\"role\": \"system\", \"content\": movie_prompt}]\n",
    "while True:\n",
    "    \n",
    "    text = input(\"관심사 또는 개인정보를 입력하세요. (종료: 'q') >> \")\n",
    "    if text.lower() in ['q','ㅂ']:\n",
    "        break\n",
    "    messages.append({\"role\": \"user\", \"content\": text})\n",
    "\n",
    "\n",
    "    #chat 함수 정의\n",
    "    response = client.chat.completions.create(\n",
    "        # AI 모델\n",
    "        model = \"gpt-4-turbo\",\n",
    "        # model=\"gpt-4o\",\n",
    "        \n",
    "        #메시지\n",
    "        messages = messages,\n",
    "        stream = True #스트리밍 활성화 (실시간 응답처럼 보이게)\n",
    "    )\n",
    "    #전체 응답을 chunk 단위로 구분한다.\n",
    "    collected_messages = [] #전체 응답을 저장하기 위한 리스트 선언\n",
    "    for chunk in response:\n",
    "        # print(chunk.choices[0].delta.content)\n",
    "        chunk_message = chunk.choices[0].delta.content\n",
    "        collected_messages.append(chunk_message)\n",
    "        # print(collected_messages)\n",
    "        if(chunk_message==None):\n",
    "            text = input(\"추가정보를 입력(종료 :q)>>\")\n",
    "        else:\n",
    "            print(f\"{chunk_message}\", end='')\n",
    "    collected_messages = [m for m in collected_messages if m is not None]\n",
    "    print(\"collected_messages\", collected_messages)\n",
    "    \n",
    "\n",
    "            \n",
    "    \n",
    "    \n",
    "\n",
    "    chat_response = response.choice[0].message.content\n",
    "    print(f\"ChatGPT : {chat_response}\")\n",
    "    messages.append({\"role\": \"assistant\", \"content\": chat_response})\n",
    "\n"
   ]
  },
  {
   "cell_type": "code",
   "execution_count": 27,
   "metadata": {},
   "outputs": [
    {
     "name": "stdout",
     "output_type": "stream",
     "text": [
      "20대 후반 남성분께 추천드리는 인기 있는 한국 영화들입니다:\n",
      "\n",
      "1. **부산행 (2016)** - 좀비 아포칼립스를 배경으로 한 고속 열차 안에서 벌어지는 긴박한 생존기입니다.\n",
      "2. **범죄 도시 (2017)** - 실제 사건을 바탕으로 한 범죄 액션물로, 서울 강남 경찰이 조직 폭력배를 잡기 위해 벌이는 치열한 사투를 그립니다.\n",
      "3. **극한직업 (2019)** - 마약반 경찰들이 위장 취업한 치킨집이 대박 나면서 벌어지는 유쾌한 사건을 다룬 코미디 영화입니다.\n",
      "4. **아가씨 (2016)** - 1930년대 일제 강점기 시대를 배경으로 한 서스펜스 스릴러로, 복잡한 인간관계와 심리적 긴장감을 섬세하게 그려냈습니다.\n",
      "5. **1987 (2017)** - 1987년 대한민국의 민주화 운동 배경을 다룬 드라마로, 역사적 사건들이 개인의 삶에 미친 영향을 그린 감동적인 작품입니다.\n",
      "\n",
      "더 많은 정보를 입력하겠습니까?\n",
      "황정민이 출연한 인기 영화 몇 편을 추천드립니다:\n",
      "\n",
      "1. **신세계 (2013)** - 조직 범죄와 경찰 조직 사이의 긴장감을 그린 범죄 드라마로, 황정민은 카리스마 넘치는 조직의 중심 인물을 연기했습니다.\n",
      "2. **국제시장 (2014)** - 한국 현대사와 맞물려 가족의 사랑과 희생을 그린 드라마 영화로, 황정민은 주인공으로 평범한 가장의 삶을 깊이 있게 표현했습니다.\n",
      "3. **베테랑 (2015)** - 정의감 넘치는 형사와 무소불위의 재벌 3세 간의 대결을 그린 액션 영화에서 황정민은 주인공 형사 역할을 맡아 열연했습니다.\n",
      "4. **내부자들 (2015)** - 정치와 재계의 내막을 그린 범죄 드라마에서 강력한 연기력을 선보였습니다.\n",
      "5. **와이키키 브라더스 (2001)** - 한 인디 밴드의 이야기를 그린 드라마로, 황정민이 드러머로 출연해 초기 연기 생활의 열정을 보여줬습니다.\n",
      "\n",
      "더 많은 정보를 입력하겠습니까?\n"
     ]
    }
   ],
   "source": [
    "messages = [{\"role\": \"system\", \"content\": movie_prompt}]\n",
    "\n",
    "while True:\n",
    "    text = input(\"당신의 관심사 또는 개인정보(성별, 연령대 등)을 입력하세요. (종료: 'q') >> \")\n",
    "    if text.lower() in ['q', 'ㅂ']:  # 종료 조건\n",
    "        break\n",
    "\n",
    "    messages.append({\"role\": \"user\", \"content\": text})  # 사용자 입력 저장\n",
    "\n",
    "    # ChatGPT 호출\n",
    "    response = client.chat.completions.create(\n",
    "        model=\"gpt-4-turbo\",\n",
    "        messages=messages,\n",
    "        stream=True  # 스트리밍 활성화\n",
    "    )\n",
    "\n",
    "    collected_messages = []  # 전체 응답을 저장할 리스트\n",
    "\n",
    "    for chunk in response:\n",
    "        if chunk.choices[0].delta.content:  # 응답이 존재하는 경우만 추가\n",
    "            chunk_message = chunk.choices[0].delta.content\n",
    "            collected_messages.append(chunk_message)\n",
    "            print(chunk_message, end='', flush=True)  # 실시간 출력\n",
    "\n",
    "    print()  # 줄 바꿈\n",
    "\n",
    "    # 전체 응답을 하나의 문자열로 변환\n",
    "    full_reply_content = \"\".join(collected_messages)\n",
    "\n",
    "    # AI 응답을 메시지 리스트에 추가\n",
    "    messages.append({\"role\": \"assistant\", \"content\": full_reply_content})\n"
   ]
  },
  {
   "cell_type": "code",
   "execution_count": null,
   "metadata": {},
   "outputs": [],
   "source": []
  }
 ],
 "metadata": {
  "kernelspec": {
   "display_name": "Python 3",
   "language": "python",
   "name": "python3"
  },
  "language_info": {
   "codemirror_mode": {
    "name": "ipython",
    "version": 3
   },
   "file_extension": ".py",
   "mimetype": "text/x-python",
   "name": "python",
   "nbconvert_exporter": "python",
   "pygments_lexer": "ipython3",
   "version": "3.11.11"
  }
 },
 "nbformat": 4,
 "nbformat_minor": 2
}

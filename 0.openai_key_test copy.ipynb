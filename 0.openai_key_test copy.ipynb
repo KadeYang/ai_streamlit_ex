{
 "cells": [
  {
   "cell_type": "markdown",
   "metadata": {},
   "source": [
    "## Openai_api Key Test"
   ]
  },
  {
   "cell_type": "markdown",
   "metadata": {},
   "source": [
    "### 작업순서\n",
    "\n",
    "- 환경변수 가져오기\n",
    "- openai_key에 대입\n",
    "- openai 객체 만들기"
   ]
  },
  {
   "cell_type": "code",
   "execution_count": 7,
   "metadata": {},
   "outputs": [
    {
     "data": {
      "text/plain": [
       "True"
      ]
     },
     "execution_count": 7,
     "metadata": {},
     "output_type": "execute_result"
    }
   ],
   "source": [
    "from openai import OpenAI\n",
    "from dotenv import load_dotenv\n",
    "import os\n",
    "\n",
    "# .env 파일의 환경 변수를 메모리에 로딩\n",
    "load_dotenv(override= True)"
   ]
  },
  {
   "cell_type": "code",
   "execution_count": 10,
   "metadata": {},
   "outputs": [],
   "source": [
    "# os.environ.get(\".env의 변수가 들어가야함\")\n",
    "openai_key = os.environ.get(\"OPENAI_API_KEY\")\n",
    "# print(openai_key)"
   ]
  },
  {
   "cell_type": "code",
   "execution_count": 22,
   "metadata": {},
   "outputs": [],
   "source": [
    "from openai import OpenAI\n",
    "#OpenAI() 객체 생성\n",
    "client = OpenAI(api_key=openai_key)\n",
    "\n",
    "# chat 함수 정의\n",
    "response = client.chat.completions.create(\n",
    "    # AI 모델\n",
    "    model=\"gpt-4-turbo\",\n",
    "    # model=\"gpt-4o\",\n",
    "    #메시지\n",
    "    messages=[\n",
    "        #필수로 필요한 ROLE은 system 과 user 롤이 필요하다.\n",
    "        {\n",
    "            \"role\": \"system\",\n",
    "            \"content\": [\n",
    "                {\n",
    "                \"text\": \"너는 IT 전문가야.\",\n",
    "                \"type\": \"text\"\n",
    "                }\n",
    "            ]\n",
    "        },\n",
    "        {\n",
    "            \"role\": \"user\",\n",
    "            \"content\": [\n",
    "                {\n",
    "                \"type\": \"text\",\n",
    "                \"text\": \"최근 가장 많이 사용하는 프로그래밍 언어 Top 5를 설명과 함께 알려줘\"\n",
    "                }\n",
    "            ]\n",
    "        },\n",
    "        \n",
    "    ],\n",
    "    # 응답 포맷\n",
    "    response_format={\n",
    "        \"type\": \"text\"\n",
    "    },\n",
    "    \n",
    "    # 설정값\n",
    "    temperature=1,\n",
    "    max_completion_tokens=2048,\n",
    "    top_p=1,\n",
    "    frequency_penalty=0,\n",
    "    presence_penalty=0\n",
    "    )"
   ]
  },
  {
   "cell_type": "code",
   "execution_count": 16,
   "metadata": {},
   "outputs": [
    {
     "data": {
      "text/plain": [
       "Choice(finish_reason='stop', index=0, logprobs=None, message=ChatCompletionMessage(content='최근 가장 많이 사용하는 프로그래밍 언어 Top 5는 다양한 요인에 따라 조금씩 다를 수 있지만, 일반적으로 사용 빈도가 높은 언어들을 다음과 같이 설명할 수 있습니다:\\n\\n1. **Python**:\\n   - **설명**: Python은 간결하고 읽기 쉬운 문법으로 인해 초보자와 전문가 모두에게 인기 있는 언어입니다. 데이터 분석, 인공지능, 웹 개발 등의 분야에서 널리 사용됩니다. 방대한 라이브러리와 커뮤니티의 지원 덕분에 다양한 응용 분야에서 활용할 수 있습니다.\\n\\n2. **JavaScript**:\\n   - **설명**: JavaScript는 웹 개발의 핵심 언어로, 클라이언트 측과 서버 측 개발 모두에 사용됩니다. 웹 브라우저에서 직접 실행되며, 인터랙티브한 웹 페이지와 웹 애플리케이션 개발에 필수적입니다. Node.js 덕분에 서버 측 프로그래밍에서도 인기를 끌고 있습니다.\\n\\n3. **Java**:\\n   - **설명**: Java는 객체 지향 프로그래밍 언어로, 플랫폼 독립성을 제공하는 JVM(Java Virtual Machine)에서 실행됩니다. 안정성과 보안성이 뛰어나 일반 소프트웨어 개발, 모바일 앱 개발(Android), 대규모 엔터프라이즈 시스템 등 다양한 분야에서 사용됩니다.\\n\\n4. **C#**:\\n   - **설명**: C#은 Microsoft가 개발한 객체 지향 언어로, 주로 .NET 프레임워크에서 사용됩니다. 데스크톱 애플리케이션, 웹 서비스, 게임 개발(특히 유니티(Unity) 엔진을 사용한 게임 개발) 등 다양한 분야에서 활용됩니다. 강력한 타입 시스템과 풍부한 기능을 제공합니다.\\n\\n5. **C++**:\\n   - **설명**: C++는 C 언어에 객체 지향 개념을 추가한 언어로, 성능이 중요한 애플리케이션에서 널리 사용됩니다. 시스템 소프트웨어, 게임 개발, 그래픽 엔진, 고성능 애플리케이션 등에서 많이 활용됩니다. 메모리 관리와 성능 최적화에 대한 세밀한 제어가 가능합니다.\\n\\n이 언어들은 각각 고유의 강점과 용도가 있는데, 선택할 때에는 프로젝트의 요구사항, 개발 팀의 경험, 실행 환경 등을 고려해야 합니다.', refusal=None, role='assistant', audio=None, function_call=None, tool_calls=None))"
      ]
     },
     "execution_count": 16,
     "metadata": {},
     "output_type": "execute_result"
    }
   ],
   "source": [
    "response.choices[0]"
   ]
  },
  {
   "cell_type": "code",
   "execution_count": 17,
   "metadata": {},
   "outputs": [
    {
     "data": {
      "text/plain": [
       "ChatCompletionMessage(content='최근 가장 많이 사용하는 프로그래밍 언어 Top 5는 다양한 요인에 따라 조금씩 다를 수 있지만, 일반적으로 사용 빈도가 높은 언어들을 다음과 같이 설명할 수 있습니다:\\n\\n1. **Python**:\\n   - **설명**: Python은 간결하고 읽기 쉬운 문법으로 인해 초보자와 전문가 모두에게 인기 있는 언어입니다. 데이터 분석, 인공지능, 웹 개발 등의 분야에서 널리 사용됩니다. 방대한 라이브러리와 커뮤니티의 지원 덕분에 다양한 응용 분야에서 활용할 수 있습니다.\\n\\n2. **JavaScript**:\\n   - **설명**: JavaScript는 웹 개발의 핵심 언어로, 클라이언트 측과 서버 측 개발 모두에 사용됩니다. 웹 브라우저에서 직접 실행되며, 인터랙티브한 웹 페이지와 웹 애플리케이션 개발에 필수적입니다. Node.js 덕분에 서버 측 프로그래밍에서도 인기를 끌고 있습니다.\\n\\n3. **Java**:\\n   - **설명**: Java는 객체 지향 프로그래밍 언어로, 플랫폼 독립성을 제공하는 JVM(Java Virtual Machine)에서 실행됩니다. 안정성과 보안성이 뛰어나 일반 소프트웨어 개발, 모바일 앱 개발(Android), 대규모 엔터프라이즈 시스템 등 다양한 분야에서 사용됩니다.\\n\\n4. **C#**:\\n   - **설명**: C#은 Microsoft가 개발한 객체 지향 언어로, 주로 .NET 프레임워크에서 사용됩니다. 데스크톱 애플리케이션, 웹 서비스, 게임 개발(특히 유니티(Unity) 엔진을 사용한 게임 개발) 등 다양한 분야에서 활용됩니다. 강력한 타입 시스템과 풍부한 기능을 제공합니다.\\n\\n5. **C++**:\\n   - **설명**: C++는 C 언어에 객체 지향 개념을 추가한 언어로, 성능이 중요한 애플리케이션에서 널리 사용됩니다. 시스템 소프트웨어, 게임 개발, 그래픽 엔진, 고성능 애플리케이션 등에서 많이 활용됩니다. 메모리 관리와 성능 최적화에 대한 세밀한 제어가 가능합니다.\\n\\n이 언어들은 각각 고유의 강점과 용도가 있는데, 선택할 때에는 프로젝트의 요구사항, 개발 팀의 경험, 실행 환경 등을 고려해야 합니다.', refusal=None, role='assistant', audio=None, function_call=None, tool_calls=None)"
      ]
     },
     "execution_count": 17,
     "metadata": {},
     "output_type": "execute_result"
    }
   ],
   "source": [
    "response.choices[0].message"
   ]
  },
  {
   "cell_type": "code",
   "execution_count": 21,
   "metadata": {},
   "outputs": [
    {
     "name": "stdout",
     "output_type": "stream",
     "text": [
      "2023년 기준으로 가장 많이 사용하는 프로그래밍 언어 Top 5는 다음과 같습니다. \n",
      "\n",
      "1. **Python**:\n",
      "   - **설명**: Python은 그 간결하고 직관적인 문법으로 인해 배우기 쉬운 언어입니다. 데이터 분석, 인공지능, 웹 개발 등 다양한 분야에서 널리 사용됩니다. 강력한 커뮤니티와 방대한 라이브러리 지원 덕분에 개발자들이 빠르게 문제를 해결할 수 있는 도구를 제공합니다.\n",
      "\n",
      "2. **JavaScript**:\n",
      "   - **설명**: 주로 웹 개발에 사용되는 JavaScript는 웹 페이지의 인터랙티브한 요소를 추가하는 데 필수적입니다. Node.js의 등장 이후 서버 사이드 개발에도 많이 활용되며, React, Angular, Vue.js와 같은 프레임워크 덕분에 현대적인 웹 애플리케이션 개발에 중추적인 역할을 하고 있습니다.\n",
      "\n",
      "3. **Java**:\n",
      "   - **설명**: Java는 그 안정성과 이식성 때문에 대규모 엔터프라이즈 애플리케이션 개발에서 많이 사용됩니다. 안드로이드 앱 개발에도 필수적이며, JVM (Java Virtual Machine) 위에서 실행되기 때문에 여러 플랫폼에서 유연하게 사용할 수 있습니다.\n",
      "\n",
      "4. **C#**:\n",
      "   - **설명**: Microsoft에서 개발한 C#은 특히 .NET 프레임워크와 함께 사용되며, 윈도우 애플리케이션 개발과 게임 개발(유니티 엔진 기반)에서도 많이 활용됩니다. 객체 지향 프로그래밍 언어로서 Java와 유사한 점이 많고 강력한 기능들을 제공합니다.\n",
      "\n",
      "5. **C++**:\n",
      "   - **설명**: C++는 성능이 중요한 시스템 소프트웨어, 게임 엔진, 그래픽 처리에 폭넓게 사용되고 있는 언어입니다. C언어의 확장판으로 객체 지향 및 절차적 프로그래밍을 모두 지원하며, 하드웨어 접근이 필요하거나 실시간 성능이 중요한 애플리케이션에서 주로 채택됩니다.\n",
      "\n",
      "이러한 언어들은 모두 각기 다른 강점과 특성을 가지고 있으며 특정 요구사항에 따라 선택되어 사용되고 있습니다. 어떤 언어를 선택할지 결정할 때는 개발하려는 애플리케이션의 목적과 요구사항을 고려하는 것이 중요합니다.\n"
     ]
    }
   ],
   "source": [
    "print(response.choices[0].message.content)"
   ]
  },
  {
   "cell_type": "code",
   "execution_count": null,
   "metadata": {},
   "outputs": [],
   "source": []
  }
 ],
 "metadata": {
  "kernelspec": {
   "display_name": "openai_env",
   "language": "python",
   "name": "python3"
  },
  "language_info": {
   "codemirror_mode": {
    "name": "ipython",
    "version": 3
   },
   "file_extension": ".py",
   "mimetype": "text/x-python",
   "name": "python",
   "nbconvert_exporter": "python",
   "pygments_lexer": "ipython3",
   "version": "3.11.11"
  }
 },
 "nbformat": 4,
 "nbformat_minor": 2
}
